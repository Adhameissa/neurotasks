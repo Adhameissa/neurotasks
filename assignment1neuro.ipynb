{
 "cells": [
  {
   "cell_type": "code",
   "execution_count": 7,
   "id": "c2f9c8cc-a53e-499a-8faf-23d8887763dc",
   "metadata": {},
   "outputs": [],
   "source": [
    "import random"
   ]
  },
  {
   "cell_type": "code",
   "execution_count": 9,
   "id": "ec490a03-e093-4b86-bd3a-338183e40525",
   "metadata": {},
   "outputs": [],
   "source": [
    "def tanh(x):\n",
    "    e_pos = (2.718281828459045) ** x  \n",
    "    e_neg = (2.718281828459045) ** (-x)\n",
    "    return (e_pos - e_neg) / (e_pos + e_neg)"
   ]
  },
  {
   "cell_type": "code",
   "execution_count": 11,
   "id": "6b33396a-5827-420b-922d-e86de71ef5c3",
   "metadata": {},
   "outputs": [],
   "source": [
    "input_neurons = 2\n",
    "hidden_neurons = 2\n",
    "output_neurons = 2"
   ]
  },
  {
   "cell_type": "code",
   "execution_count": 15,
   "id": "0fb93fcc-c309-45c7-8300-ef621e6a4c18",
   "metadata": {},
   "outputs": [],
   "source": [
    "weights_input_hidden = [[random.uniform(-0.5, 0.5) for _ in range(hidden_neurons)] for _ in range(input_neurons)]\n",
    "weights_hidden_output = [[random.uniform(-0.5, 0.5) for _ in range(output_neurons)] for _ in range(hidden_neurons)]"
   ]
  },
  {
   "cell_type": "code",
   "execution_count": 17,
   "id": "47b3ee90-0491-4a00-bd10-c304a9ec2d88",
   "metadata": {},
   "outputs": [],
   "source": [
    "b1, b2 = 0.5, 0.7"
   ]
  },
  {
   "cell_type": "code",
   "execution_count": 19,
   "id": "bb09c0c0-e1c7-420a-95f8-0fa91cd495ca",
   "metadata": {},
   "outputs": [],
   "source": [
    "inputs = [0.05, 0.1]"
   ]
  },
  {
   "cell_type": "code",
   "execution_count": 21,
   "id": "3e18f430-0cfa-4d6a-ac0e-c3e38541bac3",
   "metadata": {},
   "outputs": [],
   "source": [
    "hidden_layer_input = [0.0 for _ in range(hidden_neurons)]\n",
    "for i in range(hidden_neurons):\n",
    "    hidden_layer_input[i] = sum(inputs[j] * weights_input_hidden[j][i] for j in range(input_neurons)) + b1\n",
    "    hidden_layer_input[i] = tanh(hidden_layer_input[i])"
   ]
  },
  {
   "cell_type": "code",
   "execution_count": 23,
   "id": "469c0d7f-de72-4e95-8fce-ea422a4e20f9",
   "metadata": {},
   "outputs": [
    {
     "name": "stdout",
     "output_type": "stream",
     "text": [
      "Outputs: [0.4869975123885392, 0.7741275235626196]\n"
     ]
    }
   ],
   "source": [
    "outputs = [0.0 for _ in range(output_neurons)]\n",
    "for i in range(output_neurons):\n",
    "    outputs[i] = sum(hidden_layer_input[j] * weights_hidden_output[j][i] for j in range(hidden_neurons)) + b2\n",
    "    outputs[i] = tanh(outputs[i])\n",
    "\n",
    "print(\"Outputs:\", outputs)"
   ]
  },
  {
   "cell_type": "code",
   "execution_count": 25,
   "id": "99792a3a-6e3e-4c12-9c09-c8507ac690fb",
   "metadata": {},
   "outputs": [],
   "source": [
    "target_outputs = [0.01, 0.99]"
   ]
  },
  {
   "cell_type": "code",
   "execution_count": 27,
   "id": "461424a3-fe16-4cc5-962f-d1600e5a4cb8",
   "metadata": {},
   "outputs": [],
   "source": [
    "squared_error = [(target_outputs[i] - outputs[i]) ** 2 for i in range(output_neurons)]\n",
    "total_squared_error = sum(squared_error)"
   ]
  },
  {
   "cell_type": "code",
   "execution_count": 29,
   "id": "19b57026-f61a-4036-ba27-3b4306410ead",
   "metadata": {},
   "outputs": [
    {
     "name": "stdout",
     "output_type": "stream",
     "text": [
      "Squared Error: [0.2275266268248546, 0.04660092608320735]\n",
      "Total Squared Error: 0.27412755290806196\n"
     ]
    }
   ],
   "source": [
    "print(\"Squared Error:\", squared_error)\n",
    "print(\"Total Squared Error:\", total_squared_error)"
   ]
  },
  {
   "cell_type": "code",
   "execution_count": null,
   "id": "332a4348-ae73-483e-aad8-a9d1e02c6588",
   "metadata": {},
   "outputs": [],
   "source": []
  }
 ],
 "metadata": {
  "kernelspec": {
   "display_name": "Python [conda env:base] *",
   "language": "python",
   "name": "conda-base-py"
  },
  "language_info": {
   "codemirror_mode": {
    "name": "ipython",
    "version": 3
   },
   "file_extension": ".py",
   "mimetype": "text/x-python",
   "name": "python",
   "nbconvert_exporter": "python",
   "pygments_lexer": "ipython3",
   "version": "3.12.7"
  }
 },
 "nbformat": 4,
 "nbformat_minor": 5
}
