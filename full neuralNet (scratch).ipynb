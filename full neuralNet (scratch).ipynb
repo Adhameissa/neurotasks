{
 "cells": [
  {
   "cell_type": "code",
   "execution_count": 1,
   "id": "c2f9c8cc-a53e-499a-8faf-23d8887763dc",
   "metadata": {},
   "outputs": [],
   "source": [
    "import random"
   ]
  },
  {
   "cell_type": "code",
   "execution_count": 3,
   "id": "ec490a03-e093-4b86-bd3a-338183e40525",
   "metadata": {},
   "outputs": [],
   "source": [
    "def tanh(x):\n",
    "    e_pos = (2.718281828459045) ** x  \n",
    "    e_neg = (2.718281828459045) ** (-x)\n",
    "    return (e_pos - e_neg) / (e_pos + e_neg)"
   ]
  },
  {
   "cell_type": "code",
   "execution_count": 5,
   "id": "951db2fd-e993-4812-9f1c-036d6b2050fb",
   "metadata": {},
   "outputs": [],
   "source": [
    "def tanh_derivative(x):\n",
    "    return 1 - tanh(x) ** 2"
   ]
  },
  {
   "cell_type": "code",
   "execution_count": 7,
   "id": "6b33396a-5827-420b-922d-e86de71ef5c3",
   "metadata": {},
   "outputs": [],
   "source": [
    "input_neurons = 2\n",
    "hidden_neurons = 2\n",
    "output_neurons = 2"
   ]
  },
  {
   "cell_type": "code",
   "execution_count": 9,
   "id": "0fb93fcc-c309-45c7-8300-ef621e6a4c18",
   "metadata": {},
   "outputs": [],
   "source": [
    "weights_input_hidden = [[random.uniform(-0.5, 0.5) for _ in range(hidden_neurons)] for _ in range(input_neurons)]\n",
    "weights_hidden_output = [[random.uniform(-0.5, 0.5) for _ in range(output_neurons)] for _ in range(hidden_neurons)]"
   ]
  },
  {
   "cell_type": "code",
   "execution_count": 11,
   "id": "47b3ee90-0491-4a00-bd10-c304a9ec2d88",
   "metadata": {},
   "outputs": [],
   "source": [
    "b1, b2 = 0.5, 0.7\n",
    "learning_rate = 0.1"
   ]
  },
  {
   "cell_type": "code",
   "execution_count": 13,
   "id": "bb09c0c0-e1c7-420a-95f8-0fa91cd495ca",
   "metadata": {},
   "outputs": [],
   "source": [
    "inputs = [0.05, 0.1]\n",
    "target_outputs = [0.01, 0.99]"
   ]
  },
  {
   "cell_type": "code",
   "execution_count": 15,
   "id": "3e18f430-0cfa-4d6a-ac0e-c3e38541bac3",
   "metadata": {},
   "outputs": [],
   "source": [
    "hidden_layer_input = [sum(inputs[j] * weights_input_hidden[j][i] for j in range(input_neurons)) + b1 for i in range(hidden_neurons)]\n",
    "hidden_layer_output = [tanh(x) for x in hidden_layer_input]"
   ]
  },
  {
   "cell_type": "code",
   "execution_count": 17,
   "id": "469c0d7f-de72-4e95-8fce-ea422a4e20f9",
   "metadata": {},
   "outputs": [
    {
     "name": "stdout",
     "output_type": "stream",
     "text": [
      "Outputs: [0.43612097047677706, 0.6815895855570486]\n"
     ]
    }
   ],
   "source": [
    "outputs = [sum(hidden_layer_input[j] * weights_hidden_output[j][i] for j in range(hidden_neurons)) + b2 for i in range(output_neurons)]\n",
    "outputs = [tanh(x) for x in outputs]\n",
    "print(\"Outputs:\", outputs)"
   ]
  },
  {
   "cell_type": "code",
   "execution_count": 21,
   "id": "461424a3-fe16-4cc5-962f-d1600e5a4cb8",
   "metadata": {},
   "outputs": [],
   "source": [
    "squared_error = [(target_outputs[i] - outputs[i]) ** 2 for i in range(output_neurons)]\n",
    "total_squared_error = sum(squared_error)"
   ]
  },
  {
   "cell_type": "code",
   "execution_count": 23,
   "id": "19b57026-f61a-4036-ba27-3b4306410ead",
   "metadata": {},
   "outputs": [
    {
     "name": "stdout",
     "output_type": "stream",
     "text": [
      "Squared Error: [0.1815790814800703, 0.09511698373687302]\n",
      "Total Squared Error: 0.27669606521694334\n"
     ]
    }
   ],
   "source": [
    "print(\"Squared Error:\", squared_error)\n",
    "print(\"Total Squared Error:\", total_squared_error)"
   ]
  },
  {
   "cell_type": "code",
   "execution_count": 25,
   "id": "332a4348-ae73-483e-aad8-a9d1e02c6588",
   "metadata": {},
   "outputs": [],
   "source": [
    "output_errors = [(target_outputs[i] - outputs[i]) * tanh_derivative(outputs[i]) for i in range(output_neurons)]\n",
    "hidden_errors = [sum(output_errors[j] * weights_hidden_output[i][j]\n",
    "                     for j in range(output_neurons)) * tanh_derivative(hidden_layer_input[i])\n",
    "                 for i in range(hidden_neurons)]"
   ]
  },
  {
   "cell_type": "code",
   "execution_count": 27,
   "id": "8cca93f4-44e5-4b4c-b367-8b45ab7ea379",
   "metadata": {},
   "outputs": [],
   "source": [
    "for i in range(hidden_neurons):\n",
    "    for j in range(output_neurons):\n",
    "        weights_hidden_output[i][j] += learning_rate * output_errors[j] * hidden_layer_output[i]\n",
    "\n",
    "for i in range(input_neurons):\n",
    "    for j in range(hidden_neurons):\n",
    "        weights_input_hidden[i][j] += learning_rate * hidden_errors[j] * inputs[i]"
   ]
  },
  {
   "cell_type": "code",
   "execution_count": 29,
   "id": "8298d39e-93e4-49c8-a870-1e623f9c1f1a",
   "metadata": {},
   "outputs": [
    {
     "name": "stdout",
     "output_type": "stream",
     "text": [
      "Updated weights (Input to Hidden): [[0.3389537479599526, -0.1125195625751952], [0.3210166202666905, -0.25715154313332517]]\n",
      "Updated weights (Hidden to Output): [[-0.033848911900293675, -0.10306970454880399], [-0.4930788988168054, 0.423259412135335]]\n",
      "Updated biases: 0.5191361420575547 0.6845780255765991\n"
     ]
    }
   ],
   "source": [
    "b2 += learning_rate * sum(output_errors)\n",
    "b1 += learning_rate * sum(hidden_errors)\n",
    "\n",
    "print(\"Updated weights (Input to Hidden):\", weights_input_hidden)\n",
    "print(\"Updated weights (Hidden to Output):\", weights_hidden_output)\n",
    "print(\"Updated biases:\", b1, b2)"
   ]
  },
  {
   "cell_type": "code",
   "execution_count": null,
   "id": "677c283b-0a3f-461e-96cf-a9f1b586779b",
   "metadata": {},
   "outputs": [],
   "source": []
  }
 ],
 "metadata": {
  "kernelspec": {
   "display_name": "Python [conda env:base] *",
   "language": "python",
   "name": "conda-base-py"
  },
  "language_info": {
   "codemirror_mode": {
    "name": "ipython",
    "version": 3
   },
   "file_extension": ".py",
   "mimetype": "text/x-python",
   "name": "python",
   "nbconvert_exporter": "python",
   "pygments_lexer": "ipython3",
   "version": "3.12.7"
  }
 },
 "nbformat": 4,
 "nbformat_minor": 5
}
